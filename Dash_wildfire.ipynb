{
 "cells": [
  {
   "cell_type": "code",
   "execution_count": 1,
   "metadata": {},
   "outputs": [
    {
     "name": "stdout",
     "output_type": "stream",
     "text": [
      "Defaulting to user installation because normal site-packages is not writeable\n",
      "Requirement already satisfied: setuptools in c:\\users\\shini\\appdata\\roaming\\python\\python312\\site-packages (70.0.0)\n"
     ]
    },
    {
     "name": "stderr",
     "output_type": "stream",
     "text": [
      "\n",
      "[notice] A new release of pip is available: 24.0 -> 24.1.1\n",
      "[notice] To update, run: python.exe -m pip install --upgrade pip\n"
     ]
    },
    {
     "name": "stdout",
     "output_type": "stream",
     "text": [
      "Defaulting to user installation because normal site-packages is not writeable\n",
      "Requirement already satisfied: pandas in c:\\users\\shini\\appdata\\roaming\\python\\python312\\site-packages (2.2.2)\n",
      "Requirement already satisfied: numpy>=1.26.0 in c:\\users\\shini\\appdata\\roaming\\python\\python312\\site-packages (from pandas) (1.26.4)\n",
      "Requirement already satisfied: python-dateutil>=2.8.2 in c:\\users\\shini\\appdata\\roaming\\python\\python312\\site-packages (from pandas) (2.9.0.post0)\n",
      "Requirement already satisfied: pytz>=2020.1 in c:\\users\\shini\\appdata\\roaming\\python\\python312\\site-packages (from pandas) (2024.1)\n",
      "Requirement already satisfied: tzdata>=2022.7 in c:\\users\\shini\\appdata\\roaming\\python\\python312\\site-packages (from pandas) (2024.1)\n",
      "Requirement already satisfied: six>=1.5 in c:\\users\\shini\\appdata\\roaming\\python\\python312\\site-packages (from python-dateutil>=2.8.2->pandas) (1.16.0)\n"
     ]
    },
    {
     "name": "stderr",
     "output_type": "stream",
     "text": [
      "\n",
      "[notice] A new release of pip is available: 24.0 -> 24.1.1\n",
      "[notice] To update, run: python.exe -m pip install --upgrade pip\n"
     ]
    },
    {
     "name": "stdout",
     "output_type": "stream",
     "text": [
      "Defaulting to user installation because normal site-packages is not writeable\n",
      "Requirement already satisfied: dash in c:\\users\\shini\\appdata\\roaming\\python\\python312\\site-packages (2.17.0)\n",
      "Requirement already satisfied: Flask<3.1,>=1.0.4 in c:\\users\\shini\\appdata\\roaming\\python\\python312\\site-packages (from dash) (3.0.3)\n",
      "Requirement already satisfied: Werkzeug<3.1 in c:\\users\\shini\\appdata\\roaming\\python\\python312\\site-packages (from dash) (3.0.3)\n",
      "Requirement already satisfied: plotly>=5.0.0 in c:\\users\\shini\\appdata\\roaming\\python\\python312\\site-packages (from dash) (5.22.0)\n",
      "Requirement already satisfied: dash-html-components==2.0.0 in c:\\users\\shini\\appdata\\roaming\\python\\python312\\site-packages (from dash) (2.0.0)\n",
      "Requirement already satisfied: dash-core-components==2.0.0 in c:\\users\\shini\\appdata\\roaming\\python\\python312\\site-packages (from dash) (2.0.0)\n",
      "Requirement already satisfied: dash-table==5.0.0 in c:\\users\\shini\\appdata\\roaming\\python\\python312\\site-packages (from dash) (5.0.0)\n",
      "Requirement already satisfied: importlib-metadata in c:\\users\\shini\\appdata\\roaming\\python\\python312\\site-packages (from dash) (7.1.0)\n",
      "Requirement already satisfied: typing-extensions>=4.1.1 in c:\\users\\shini\\appdata\\roaming\\python\\python312\\site-packages (from dash) (4.12.2)\n",
      "Requirement already satisfied: requests in c:\\users\\shini\\appdata\\roaming\\python\\python312\\site-packages (from dash) (2.32.3)\n",
      "Requirement already satisfied: retrying in c:\\users\\shini\\appdata\\roaming\\python\\python312\\site-packages (from dash) (1.3.4)\n",
      "Requirement already satisfied: nest-asyncio in c:\\users\\shini\\appdata\\roaming\\python\\python312\\site-packages (from dash) (1.6.0)\n",
      "Requirement already satisfied: setuptools in c:\\users\\shini\\appdata\\roaming\\python\\python312\\site-packages (from dash) (70.0.0)\n",
      "Requirement already satisfied: Jinja2>=3.1.2 in c:\\users\\shini\\appdata\\roaming\\python\\python312\\site-packages (from Flask<3.1,>=1.0.4->dash) (3.1.4)\n",
      "Requirement already satisfied: itsdangerous>=2.1.2 in c:\\users\\shini\\appdata\\roaming\\python\\python312\\site-packages (from Flask<3.1,>=1.0.4->dash) (2.2.0)\n",
      "Requirement already satisfied: click>=8.1.3 in c:\\users\\shini\\appdata\\roaming\\python\\python312\\site-packages (from Flask<3.1,>=1.0.4->dash) (8.1.7)\n",
      "Requirement already satisfied: blinker>=1.6.2 in c:\\users\\shini\\appdata\\roaming\\python\\python312\\site-packages (from Flask<3.1,>=1.0.4->dash) (1.8.2)\n",
      "Requirement already satisfied: tenacity>=6.2.0 in c:\\users\\shini\\appdata\\roaming\\python\\python312\\site-packages (from plotly>=5.0.0->dash) (8.3.0)\n",
      "Requirement already satisfied: packaging in c:\\users\\shini\\appdata\\roaming\\python\\python312\\site-packages (from plotly>=5.0.0->dash) (24.1)\n",
      "Requirement already satisfied: MarkupSafe>=2.1.1 in c:\\users\\shini\\appdata\\roaming\\python\\python312\\site-packages (from Werkzeug<3.1->dash) (2.1.5)\n",
      "Requirement already satisfied: zipp>=0.5 in c:\\users\\shini\\appdata\\roaming\\python\\python312\\site-packages (from importlib-metadata->dash) (3.19.2)\n",
      "Requirement already satisfied: charset-normalizer<4,>=2 in c:\\users\\shini\\appdata\\roaming\\python\\python312\\site-packages (from requests->dash) (3.3.2)\n",
      "Requirement already satisfied: idna<4,>=2.5 in c:\\users\\shini\\appdata\\roaming\\python\\python312\\site-packages (from requests->dash) (3.7)\n",
      "Requirement already satisfied: urllib3<3,>=1.21.1 in c:\\users\\shini\\appdata\\roaming\\python\\python312\\site-packages (from requests->dash) (2.2.1)\n",
      "Requirement already satisfied: certifi>=2017.4.17 in c:\\users\\shini\\appdata\\roaming\\python\\python312\\site-packages (from requests->dash) (2024.6.2)\n",
      "Requirement already satisfied: six>=1.7.0 in c:\\users\\shini\\appdata\\roaming\\python\\python312\\site-packages (from retrying->dash) (1.16.0)\n",
      "Requirement already satisfied: colorama in c:\\users\\shini\\appdata\\roaming\\python\\python312\\site-packages (from click>=8.1.3->Flask<3.1,>=1.0.4->dash) (0.4.6)\n"
     ]
    },
    {
     "name": "stderr",
     "output_type": "stream",
     "text": [
      "\n",
      "[notice] A new release of pip is available: 24.0 -> 24.1.1\n",
      "[notice] To update, run: python.exe -m pip install --upgrade pip\n"
     ]
    },
    {
     "name": "stdout",
     "output_type": "stream",
     "text": [
      "Defaulting to user installation because normal site-packages is not writeable\n",
      "Requirement already satisfied: jupyter_dash in c:\\users\\shini\\appdata\\roaming\\python\\python312\\site-packages (0.4.2)\n",
      "Requirement already satisfied: dash in c:\\users\\shini\\appdata\\roaming\\python\\python312\\site-packages (from jupyter_dash) (2.17.0)\n",
      "Requirement already satisfied: requests in c:\\users\\shini\\appdata\\roaming\\python\\python312\\site-packages (from jupyter_dash) (2.32.3)\n",
      "Requirement already satisfied: flask in c:\\users\\shini\\appdata\\roaming\\python\\python312\\site-packages (from jupyter_dash) (3.0.3)\n",
      "Requirement already satisfied: retrying in c:\\users\\shini\\appdata\\roaming\\python\\python312\\site-packages (from jupyter_dash) (1.3.4)\n",
      "Requirement already satisfied: ipython in c:\\users\\shini\\appdata\\roaming\\python\\python312\\site-packages (from jupyter_dash) (8.25.0)\n",
      "Requirement already satisfied: ipykernel in c:\\users\\shini\\appdata\\roaming\\python\\python312\\site-packages (from jupyter_dash) (6.29.4)\n",
      "Requirement already satisfied: ansi2html in c:\\users\\shini\\appdata\\roaming\\python\\python312\\site-packages (from jupyter_dash) (1.9.1)\n",
      "Requirement already satisfied: nest-asyncio in c:\\users\\shini\\appdata\\roaming\\python\\python312\\site-packages (from jupyter_dash) (1.6.0)\n",
      "Requirement already satisfied: Werkzeug<3.1 in c:\\users\\shini\\appdata\\roaming\\python\\python312\\site-packages (from dash->jupyter_dash) (3.0.3)\n",
      "Requirement already satisfied: plotly>=5.0.0 in c:\\users\\shini\\appdata\\roaming\\python\\python312\\site-packages (from dash->jupyter_dash) (5.22.0)\n",
      "Requirement already satisfied: dash-html-components==2.0.0 in c:\\users\\shini\\appdata\\roaming\\python\\python312\\site-packages (from dash->jupyter_dash) (2.0.0)\n",
      "Requirement already satisfied: dash-core-components==2.0.0 in c:\\users\\shini\\appdata\\roaming\\python\\python312\\site-packages (from dash->jupyter_dash) (2.0.0)\n",
      "Requirement already satisfied: dash-table==5.0.0 in c:\\users\\shini\\appdata\\roaming\\python\\python312\\site-packages (from dash->jupyter_dash) (5.0.0)\n",
      "Requirement already satisfied: importlib-metadata in c:\\users\\shini\\appdata\\roaming\\python\\python312\\site-packages (from dash->jupyter_dash) (7.1.0)\n",
      "Requirement already satisfied: typing-extensions>=4.1.1 in c:\\users\\shini\\appdata\\roaming\\python\\python312\\site-packages (from dash->jupyter_dash) (4.12.2)\n",
      "Requirement already satisfied: setuptools in c:\\users\\shini\\appdata\\roaming\\python\\python312\\site-packages (from dash->jupyter_dash) (70.0.0)\n",
      "Requirement already satisfied: Jinja2>=3.1.2 in c:\\users\\shini\\appdata\\roaming\\python\\python312\\site-packages (from flask->jupyter_dash) (3.1.4)\n",
      "Requirement already satisfied: itsdangerous>=2.1.2 in c:\\users\\shini\\appdata\\roaming\\python\\python312\\site-packages (from flask->jupyter_dash) (2.2.0)\n",
      "Requirement already satisfied: click>=8.1.3 in c:\\users\\shini\\appdata\\roaming\\python\\python312\\site-packages (from flask->jupyter_dash) (8.1.7)\n",
      "Requirement already satisfied: blinker>=1.6.2 in c:\\users\\shini\\appdata\\roaming\\python\\python312\\site-packages (from flask->jupyter_dash) (1.8.2)\n",
      "Requirement already satisfied: comm>=0.1.1 in c:\\users\\shini\\appdata\\roaming\\python\\python312\\site-packages (from ipykernel->jupyter_dash) (0.2.2)\n",
      "Requirement already satisfied: debugpy>=1.6.5 in c:\\users\\shini\\appdata\\roaming\\python\\python312\\site-packages (from ipykernel->jupyter_dash) (1.8.1)\n",
      "Requirement already satisfied: jupyter-client>=6.1.12 in c:\\users\\shini\\appdata\\roaming\\python\\python312\\site-packages (from ipykernel->jupyter_dash) (8.6.2)\n",
      "Requirement already satisfied: jupyter-core!=5.0.*,>=4.12 in c:\\users\\shini\\appdata\\roaming\\python\\python312\\site-packages (from ipykernel->jupyter_dash) (5.7.2)\n",
      "Requirement already satisfied: matplotlib-inline>=0.1 in c:\\users\\shini\\appdata\\roaming\\python\\python312\\site-packages (from ipykernel->jupyter_dash) (0.1.7)\n",
      "Requirement already satisfied: packaging in c:\\users\\shini\\appdata\\roaming\\python\\python312\\site-packages (from ipykernel->jupyter_dash) (24.1)\n",
      "Requirement already satisfied: psutil in c:\\users\\shini\\appdata\\roaming\\python\\python312\\site-packages (from ipykernel->jupyter_dash) (5.9.8)\n",
      "Requirement already satisfied: pyzmq>=24 in c:\\users\\shini\\appdata\\roaming\\python\\python312\\site-packages (from ipykernel->jupyter_dash) (26.0.3)\n",
      "Requirement already satisfied: tornado>=6.1 in c:\\users\\shini\\appdata\\roaming\\python\\python312\\site-packages (from ipykernel->jupyter_dash) (6.4.1)\n",
      "Requirement already satisfied: traitlets>=5.4.0 in c:\\users\\shini\\appdata\\roaming\\python\\python312\\site-packages (from ipykernel->jupyter_dash) (5.14.3)\n",
      "Requirement already satisfied: decorator in c:\\users\\shini\\appdata\\roaming\\python\\python312\\site-packages (from ipython->jupyter_dash) (5.1.1)\n",
      "Requirement already satisfied: jedi>=0.16 in c:\\users\\shini\\appdata\\roaming\\python\\python312\\site-packages (from ipython->jupyter_dash) (0.19.1)\n",
      "Requirement already satisfied: prompt-toolkit<3.1.0,>=3.0.41 in c:\\users\\shini\\appdata\\roaming\\python\\python312\\site-packages (from ipython->jupyter_dash) (3.0.47)\n",
      "Requirement already satisfied: pygments>=2.4.0 in c:\\users\\shini\\appdata\\roaming\\python\\python312\\site-packages (from ipython->jupyter_dash) (2.18.0)\n",
      "Requirement already satisfied: stack-data in c:\\users\\shini\\appdata\\roaming\\python\\python312\\site-packages (from ipython->jupyter_dash) (0.6.3)\n",
      "Requirement already satisfied: colorama in c:\\users\\shini\\appdata\\roaming\\python\\python312\\site-packages (from ipython->jupyter_dash) (0.4.6)\n",
      "Requirement already satisfied: charset-normalizer<4,>=2 in c:\\users\\shini\\appdata\\roaming\\python\\python312\\site-packages (from requests->jupyter_dash) (3.3.2)\n",
      "Requirement already satisfied: idna<4,>=2.5 in c:\\users\\shini\\appdata\\roaming\\python\\python312\\site-packages (from requests->jupyter_dash) (3.7)\n",
      "Requirement already satisfied: urllib3<3,>=1.21.1 in c:\\users\\shini\\appdata\\roaming\\python\\python312\\site-packages (from requests->jupyter_dash) (2.2.1)\n",
      "Requirement already satisfied: certifi>=2017.4.17 in c:\\users\\shini\\appdata\\roaming\\python\\python312\\site-packages (from requests->jupyter_dash) (2024.6.2)\n",
      "Requirement already satisfied: six>=1.7.0 in c:\\users\\shini\\appdata\\roaming\\python\\python312\\site-packages (from retrying->jupyter_dash) (1.16.0)\n",
      "Requirement already satisfied: parso<0.9.0,>=0.8.3 in c:\\users\\shini\\appdata\\roaming\\python\\python312\\site-packages (from jedi>=0.16->ipython->jupyter_dash) (0.8.4)\n",
      "Requirement already satisfied: MarkupSafe>=2.0 in c:\\users\\shini\\appdata\\roaming\\python\\python312\\site-packages (from Jinja2>=3.1.2->flask->jupyter_dash) (2.1.5)\n",
      "Requirement already satisfied: python-dateutil>=2.8.2 in c:\\users\\shini\\appdata\\roaming\\python\\python312\\site-packages (from jupyter-client>=6.1.12->ipykernel->jupyter_dash) (2.9.0.post0)\n",
      "Requirement already satisfied: platformdirs>=2.5 in c:\\users\\shini\\appdata\\roaming\\python\\python312\\site-packages (from jupyter-core!=5.0.*,>=4.12->ipykernel->jupyter_dash) (4.2.2)\n",
      "Requirement already satisfied: pywin32>=300 in c:\\users\\shini\\appdata\\roaming\\python\\python312\\site-packages (from jupyter-core!=5.0.*,>=4.12->ipykernel->jupyter_dash) (306)\n",
      "Requirement already satisfied: tenacity>=6.2.0 in c:\\users\\shini\\appdata\\roaming\\python\\python312\\site-packages (from plotly>=5.0.0->dash->jupyter_dash) (8.3.0)\n",
      "Requirement already satisfied: wcwidth in c:\\users\\shini\\appdata\\roaming\\python\\python312\\site-packages (from prompt-toolkit<3.1.0,>=3.0.41->ipython->jupyter_dash) (0.2.13)\n",
      "Requirement already satisfied: zipp>=0.5 in c:\\users\\shini\\appdata\\roaming\\python\\python312\\site-packages (from importlib-metadata->dash->jupyter_dash) (3.19.2)\n",
      "Requirement already satisfied: executing>=1.2.0 in c:\\users\\shini\\appdata\\roaming\\python\\python312\\site-packages (from stack-data->ipython->jupyter_dash) (2.0.1)\n",
      "Requirement already satisfied: asttokens>=2.1.0 in c:\\users\\shini\\appdata\\roaming\\python\\python312\\site-packages (from stack-data->ipython->jupyter_dash) (2.4.1)\n",
      "Requirement already satisfied: pure-eval in c:\\users\\shini\\appdata\\roaming\\python\\python312\\site-packages (from stack-data->ipython->jupyter_dash) (0.2.2)\n"
     ]
    },
    {
     "name": "stderr",
     "output_type": "stream",
     "text": [
      "\n",
      "[notice] A new release of pip is available: 24.0 -> 24.1.1\n",
      "[notice] To update, run: python.exe -m pip install --upgrade pip\n",
      "\n",
      "[notice] A new release of pip is available: 24.0 -> 24.1.1\n",
      "[notice] To update, run: python.exe -m pip install --upgrade pip\n"
     ]
    },
    {
     "name": "stdout",
     "output_type": "stream",
     "text": [
      "Defaulting to user installation because normal site-packages is not writeable\n",
      "Requirement already satisfied: plotly in c:\\users\\shini\\appdata\\roaming\\python\\python312\\site-packages (5.22.0)\n",
      "Requirement already satisfied: tenacity>=6.2.0 in c:\\users\\shini\\appdata\\roaming\\python\\python312\\site-packages (from plotly) (8.3.0)\n",
      "Requirement already satisfied: packaging in c:\\users\\shini\\appdata\\roaming\\python\\python312\\site-packages (from plotly) (24.1)\n"
     ]
    }
   ],
   "source": [
    "!pip install setuptools\n",
    "!pip install pandas\n",
    "!pip install dash\n",
    "!pip install jupyter_dash\n",
    "!pip install --upgrade plotly\n",
    "\n",
    "import pandas as pd\n",
    "import dash\n",
    "from dash.dependencies import Input, Output, State\n",
    "from jupyter_dash import JupyterDash\n",
    "import plotly.graph_objects as go\n",
    "import plotly.express as px\n",
    "from dash import html, dcc\n",
    "from dash import no_update\n",
    "import datetime as dt"
   ]
  },
  {
   "cell_type": "code",
   "execution_count": 2,
   "metadata": {},
   "outputs": [
    {
     "name": "stderr",
     "output_type": "stream",
     "text": [
      "C:\\Users\\shini\\AppData\\Roaming\\Python\\Python312\\site-packages\\dash\\dash.py:556: UserWarning:\n",
      "\n",
      "JupyterDash is deprecated, use Dash instead.\n",
      "See https://dash.plotly.com/dash-in-jupyter for more details.\n",
      "\n"
     ]
    }
   ],
   "source": [
    "#Create app\n",
    "app = JupyterDash(__name__)\n",
    "\n",
    "# Clear the layout and do not display exception till callback gets executed\n",
    "app.config.suppress_callback_exceptions = True"
   ]
  },
  {
   "cell_type": "code",
   "execution_count": 3,
   "metadata": {},
   "outputs": [],
   "source": [
    "# Read the wildfire data into pandas dataframe\n",
    "df =  pd.read_csv('https://cf-courses-data.s3.us.cloud-object-storage.appdomain.cloud/IBMDeveloperSkillsNetwork-DV0101EN-SkillsNetwork/Data%20Files/Historical_Wildfires.csv')"
   ]
  },
  {
   "cell_type": "code",
   "execution_count": 4,
   "metadata": {},
   "outputs": [],
   "source": [
    "#Extract year and month from the date column\n",
    "df['Month'] = pd.to_datetime(df['Date']).dt.month_name() #used for the names of the months\n",
    "df['Year'] = pd.to_datetime(df['Date']).dt.year"
   ]
  },
  {
   "cell_type": "code",
   "execution_count": 5,
   "metadata": {},
   "outputs": [],
   "source": [
    "#Layout Section of Dash\n",
    "#Task 2.1 Add the Title to the Dashboard\n",
    "app.layout = html.Div(children=[html.H1('Australia Wildfire Dashboard',\n",
    "                                        style={'textAlign': 'center', 'color':'#503D36', 'font-size': 26}),\n",
    "# TASK 2.2: Add the radio items and a dropdown right below the first inner division\n",
    "#outer division starts\n",
    "     html.Div([\n",
    "                   # First inner divsion for  adding dropdown helper text for Selected Drive wheels\n",
    "                    html.Div([\n",
    "                            html.H2('Select Region:', style={'margin-right':'2em'}),\n",
    "                    #Radio items to select the region\n",
    "                    #dcc.RadioItems(['NSW','QL','SA','TA','VI','WA','NT'], value ='NSW', id='region',inline=True)]),\n",
    "                    dcc.RadioItems([{\"label\":\"New South Wales\",\"value\": \"NSW\"},\n",
    "                                    {\"label\":\"Northern Territory\",\"value\": \"NT\"},\n",
    "                                    {\"label\":\"Queensland\",\"value\": \"QL\"},\n",
    "                                    {\"label\":\"South Australia\",\"value\": \"SA\"},\n",
    "                                    {\"label\":\"Tasmania\",\"value\": \"TA\"},\n",
    "                                    {\"label\":\"Victoria\",\"value\": \"VI\"},\n",
    "                                    {\"label\":\"Western Australia\",\"value\": \"WA\"}], value = \"NSW\", id='region',inline=True)]),\n",
    "                    #Dropdown to select year\n",
    "                    html.Div([\n",
    "                            html.H2('Select Year', style={'margin-right': '2em'}),\n",
    "                        dcc.Dropdown(df.Year.unique(), value = 2005, id = 'year')\n",
    "                    ]),\n",
    "#Second Inner division for adding 2 inner divisions for 2 output graphs\n",
    "#TASK 2.3: Add two empty divisions for output inside the next inner division.\n",
    "                    html.Div([\n",
    "                \n",
    "                        html.Div([ ], id='plot1'),\n",
    "                        html.Div([ ], id='plot2')\n",
    "                    ], style={'display': 'flex'}),\n",
    "    ])\n",
    "    #outer division ends\n",
    "\n",
    "])\n",
    "#layout ends"
   ]
  },
  {
   "cell_type": "code",
   "execution_count": 6,
   "metadata": {},
   "outputs": [],
   "source": [
    "#TASK 2.4: Add the Ouput and input components inside the app.callback decorator.\n",
    "#Place to add @app.callback Decorator\n",
    "@app.callback([Output(component_id='plot1', component_property='children'),\n",
    "               Output(component_id='plot2', component_property='children')],\n",
    "               [Input(component_id='region', component_property='value'),\n",
    "                Input(component_id='year', component_property='value')])\n",
    "   \n",
    "#TASK 2.5: Add the callback function.\n",
    "#Place to define the callback function .\n",
    "def reg_year_display(input_region,input_year):\n",
    "    \n",
    "    #data\n",
    "   region_data = df[df['Region'] == input_region]\n",
    "   y_r_data = region_data[region_data['Year']==input_year]\n",
    "    #Plot one - Monthly Average Estimated Fire Area\n",
    "   \n",
    "   est_data = y_r_data.groupby('Month')['Estimated_fire_area'].mean().reset_index()\n",
    "   fig1 = px.pie(est_data, values= 'Estimated Fire Area', title=\"{} : Monthly Average Estimated Fire Area in year {}\".format(input_region,input_year))\n",
    "   \n",
    "     #Plot two - Monthly Average Count of Pixels for Presumed Vegetation Fires\n",
    "   veg_data = y_r_data.groupby('Month')['Count'].mean().reset_index()\n",
    "   fig2 = px.bar(veg_data, x = 'Month', y = 'Count', title='{} : Average Count of Pixels for Presumed Vegetation Fires in year {}'.format(input_region,input_year))\n",
    "    \n",
    "   return [dcc.Graph(figure=fig1),\n",
    "           dcc.Graph(figure=fig2) ]"
   ]
  },
  {
   "cell_type": "code",
   "execution_count": 7,
   "metadata": {},
   "outputs": [
    {
     "data": {
      "text/html": [
       "\n",
       "        <iframe\n",
       "            width=\"100%\"\n",
       "            height=\"650\"\n",
       "            src=\"http://127.0.0.1:8090/\"\n",
       "            frameborder=\"0\"\n",
       "            allowfullscreen\n",
       "            \n",
       "        ></iframe>\n",
       "        "
      ],
      "text/plain": [
       "<IPython.lib.display.IFrame at 0x2d7bdb1cc80>"
      ]
     },
     "metadata": {},
     "output_type": "display_data"
    }
   ],
   "source": [
    "if __name__ == '__main__':\n",
    "    app.run_server(mode='jupyterlab', port = 8090, dev_tools_ui=True, debug=True,dev_tools_hot_reload =True, threaded=True)"
   ]
  }
 ],
 "metadata": {
  "kernelspec": {
   "display_name": "Python 3",
   "language": "python",
   "name": "python3"
  },
  "language_info": {
   "codemirror_mode": {
    "name": "ipython",
    "version": 3
   },
   "file_extension": ".py",
   "mimetype": "text/x-python",
   "name": "python",
   "nbconvert_exporter": "python",
   "pygments_lexer": "ipython3",
   "version": "3.12.2"
  }
 },
 "nbformat": 4,
 "nbformat_minor": 2
}
